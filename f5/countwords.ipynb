{
 "cells": [
  {
   "cell_type": "code",
   "execution_count": 2,
   "id": "392ba9e6",
   "metadata": {},
   "outputs": [
    {
     "name": "stdout",
     "output_type": "stream",
     "text": [
      "9\n"
     ]
    }
   ],
   "source": [
    "try:\n",
    "    f=open(file='file.txt',mode='r')\n",
    "    data=f.read().split()\n",
    "    cnt=0\n",
    "    for word in data:\n",
    "        cnt+=1\n",
    "    print(cnt)\n",
    "    f.close()\n",
    "except FileNotFoundError:\n",
    "    print(\"file not found\")\n"
   ]
  }
 ],
 "metadata": {
  "kernelspec": {
   "display_name": "base",
   "language": "python",
   "name": "python3"
  },
  "language_info": {
   "codemirror_mode": {
    "name": "ipython",
    "version": 3
   },
   "file_extension": ".py",
   "mimetype": "text/x-python",
   "name": "python",
   "nbconvert_exporter": "python",
   "pygments_lexer": "ipython3",
   "version": "3.13.5"
  }
 },
 "nbformat": 4,
 "nbformat_minor": 5
}
